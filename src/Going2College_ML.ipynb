{
 "cells": [
  {
   "cell_type": "markdown",
   "metadata": {},
   "source": [
    "### GIỚI THIỆU BÀI TOÁN VÀ TẬP DỮ LIỆU\n",
    "Trong bài toán này, chúng ta đi đánh giá hiệu năng và khả năng dự đoán của một mô hình học máy đơn giản trên tập dữ Dự đoán học sinh đi học đại học .\\\n",
    "<br>\n",
    "Dữ Liệu này nhằm dự đoán liệu sinh viên sẽ tiếp tục đi học đại học hay không. Bằng cách trợ giúp của Học máy, các cố vấn của trường học có thể giúp học sinh không đi học đại học giải tìm các vấn đề và giúp đỡ họ "
   ]
  },
  {
   "cell_type": "markdown",
   "metadata": {},
   "source": [
    "### NHẬP THƯ VIỆN"
   ]
  },
  {
   "cell_type": "code",
   "execution_count": 21,
   "metadata": {},
   "outputs": [],
   "source": [
    "import sklearn\n",
    "import random\n",
    "import numpy as np\n",
    "import pandas as pd\n",
    "import seaborn as sn\n",
    "import matplotlib.pyplot as plt\n",
    "from sklearn.model_selection import train_test_split\n",
    "from sklearn.manifold import TSNE\n",
    "from sklearn.neighbors import KNeighborsClassifier\n",
    "from sklearn.linear_model import LogisticRegression\n",
    "from sklearn.ensemble import RandomForestClassifier\n",
    "from sklearn import svm\n",
    "from sklearn.metrics import accuracy_score, confusion_matrix, classification_report\n",
    "from sklearn.model_selection import GridSearchCV\n",
    "import xlsxwriter"
   ]
  },
  {
   "cell_type": "markdown",
   "metadata": {},
   "source": [
    "### ĐỌC DỮ LIỆU\n",
    "Sử dụng thư viên pandas để đọc dữ liệu đầu vào. Tập dữ liệu gồm 11 đặc trưng trong đó:\n",
    "```\n",
    "- Type_school: Loại trường mà học sinh theo học. Gồm 2 giá trị là Academic và Vocational.\n",
    "- School_accreditation: Chất lượng của trường, A tốt hơn B. Gồm 2 giá trị là A và B.\n",
    "- Gender: Giới tính của sinh viên. Gồm 2 giá trị là Male và Female.\n",
    "- Interest: Mức độ quan tâm của học sinh nếu họ vào đại học. Gồm các giá trị Very Interested, Interested, Uncertain, Less Interested, Quiet Interested, Not Interested.\n",
    "- Resident: Nơi cư chú. Gồm 2 giá trị Urban và Rural.\n",
    "- Parent_age: Tuổi của bố mẹ nằm trong giải từ 40-60 tuổi.\n",
    "- Parent_salary: Thu nhập trung bình của bố mẹ mỗi tháng tính bằng IDR/Rupiah. Từ 100K-10M.\n",
    "- House_area: Diện tích nhà tính bằng mét vuông, từ 20-120m2.\n",
    "- Average_grades: Điểm trung bình, từ 0-100.\n",
    "- Parent_was_in_college: Bố mẹ đã đi học đại học. Gồm các giá trị true và false.\n",
    "- Will_go_to_college: Học sinh đó có đi học đại học hay không. \n",
    "```"
   ]
  },
  {
   "cell_type": "code",
   "execution_count": 22,
   "metadata": {},
   "outputs": [
    {
     "data": {
      "text/html": [
       "<div>\n",
       "<style scoped>\n",
       "    .dataframe tbody tr th:only-of-type {\n",
       "        vertical-align: middle;\n",
       "    }\n",
       "\n",
       "    .dataframe tbody tr th {\n",
       "        vertical-align: top;\n",
       "    }\n",
       "\n",
       "    .dataframe thead th {\n",
       "        text-align: right;\n",
       "    }\n",
       "</style>\n",
       "<table border=\"1\" class=\"dataframe\">\n",
       "  <thead>\n",
       "    <tr style=\"text-align: right;\">\n",
       "      <th></th>\n",
       "      <th>type_school</th>\n",
       "      <th>school_accreditation</th>\n",
       "      <th>gender</th>\n",
       "      <th>interest</th>\n",
       "      <th>residence</th>\n",
       "      <th>parent_age</th>\n",
       "      <th>parent_salary</th>\n",
       "      <th>house_area</th>\n",
       "      <th>average_grades</th>\n",
       "      <th>parent_was_in_college</th>\n",
       "      <th>will_go_to_college</th>\n",
       "    </tr>\n",
       "  </thead>\n",
       "  <tbody>\n",
       "    <tr>\n",
       "      <th>0</th>\n",
       "      <td>Academic</td>\n",
       "      <td>A</td>\n",
       "      <td>Male</td>\n",
       "      <td>Less Interested</td>\n",
       "      <td>Urban</td>\n",
       "      <td>56</td>\n",
       "      <td>6950000</td>\n",
       "      <td>83.0</td>\n",
       "      <td>84.09</td>\n",
       "      <td>False</td>\n",
       "      <td>True</td>\n",
       "    </tr>\n",
       "    <tr>\n",
       "      <th>1</th>\n",
       "      <td>Academic</td>\n",
       "      <td>A</td>\n",
       "      <td>Male</td>\n",
       "      <td>Less Interested</td>\n",
       "      <td>Urban</td>\n",
       "      <td>57</td>\n",
       "      <td>4410000</td>\n",
       "      <td>76.8</td>\n",
       "      <td>86.91</td>\n",
       "      <td>False</td>\n",
       "      <td>True</td>\n",
       "    </tr>\n",
       "    <tr>\n",
       "      <th>2</th>\n",
       "      <td>Academic</td>\n",
       "      <td>B</td>\n",
       "      <td>Female</td>\n",
       "      <td>Very Interested</td>\n",
       "      <td>Urban</td>\n",
       "      <td>50</td>\n",
       "      <td>6500000</td>\n",
       "      <td>80.6</td>\n",
       "      <td>87.43</td>\n",
       "      <td>False</td>\n",
       "      <td>True</td>\n",
       "    </tr>\n",
       "    <tr>\n",
       "      <th>3</th>\n",
       "      <td>Vocational</td>\n",
       "      <td>B</td>\n",
       "      <td>Male</td>\n",
       "      <td>Very Interested</td>\n",
       "      <td>Rural</td>\n",
       "      <td>49</td>\n",
       "      <td>6600000</td>\n",
       "      <td>78.2</td>\n",
       "      <td>82.12</td>\n",
       "      <td>True</td>\n",
       "      <td>True</td>\n",
       "    </tr>\n",
       "    <tr>\n",
       "      <th>4</th>\n",
       "      <td>Academic</td>\n",
       "      <td>A</td>\n",
       "      <td>Female</td>\n",
       "      <td>Very Interested</td>\n",
       "      <td>Urban</td>\n",
       "      <td>57</td>\n",
       "      <td>5250000</td>\n",
       "      <td>75.1</td>\n",
       "      <td>86.79</td>\n",
       "      <td>False</td>\n",
       "      <td>False</td>\n",
       "    </tr>\n",
       "    <tr>\n",
       "      <th>...</th>\n",
       "      <td>...</td>\n",
       "      <td>...</td>\n",
       "      <td>...</td>\n",
       "      <td>...</td>\n",
       "      <td>...</td>\n",
       "      <td>...</td>\n",
       "      <td>...</td>\n",
       "      <td>...</td>\n",
       "      <td>...</td>\n",
       "      <td>...</td>\n",
       "      <td>...</td>\n",
       "    </tr>\n",
       "    <tr>\n",
       "      <th>995</th>\n",
       "      <td>Vocational</td>\n",
       "      <td>A</td>\n",
       "      <td>Female</td>\n",
       "      <td>Very Interested</td>\n",
       "      <td>Rural</td>\n",
       "      <td>49</td>\n",
       "      <td>7420000</td>\n",
       "      <td>63.6</td>\n",
       "      <td>85.99</td>\n",
       "      <td>True</td>\n",
       "      <td>True</td>\n",
       "    </tr>\n",
       "    <tr>\n",
       "      <th>996</th>\n",
       "      <td>Academic</td>\n",
       "      <td>B</td>\n",
       "      <td>Female</td>\n",
       "      <td>Less Interested</td>\n",
       "      <td>Rural</td>\n",
       "      <td>51</td>\n",
       "      <td>7480000</td>\n",
       "      <td>84.3</td>\n",
       "      <td>89.72</td>\n",
       "      <td>True</td>\n",
       "      <td>True</td>\n",
       "    </tr>\n",
       "    <tr>\n",
       "      <th>997</th>\n",
       "      <td>Vocational</td>\n",
       "      <td>A</td>\n",
       "      <td>Male</td>\n",
       "      <td>Less Interested</td>\n",
       "      <td>Urban</td>\n",
       "      <td>49</td>\n",
       "      <td>5550000</td>\n",
       "      <td>75.2</td>\n",
       "      <td>79.56</td>\n",
       "      <td>False</td>\n",
       "      <td>True</td>\n",
       "    </tr>\n",
       "    <tr>\n",
       "      <th>998</th>\n",
       "      <td>Academic</td>\n",
       "      <td>B</td>\n",
       "      <td>Male</td>\n",
       "      <td>Uncertain</td>\n",
       "      <td>Rural</td>\n",
       "      <td>53</td>\n",
       "      <td>5840000</td>\n",
       "      <td>105.8</td>\n",
       "      <td>87.18</td>\n",
       "      <td>True</td>\n",
       "      <td>True</td>\n",
       "    </tr>\n",
       "    <tr>\n",
       "      <th>999</th>\n",
       "      <td>Academic</td>\n",
       "      <td>B</td>\n",
       "      <td>Male</td>\n",
       "      <td>Interested</td>\n",
       "      <td>Urban</td>\n",
       "      <td>50</td>\n",
       "      <td>2940000</td>\n",
       "      <td>69.1</td>\n",
       "      <td>86.13</td>\n",
       "      <td>True</td>\n",
       "      <td>False</td>\n",
       "    </tr>\n",
       "  </tbody>\n",
       "</table>\n",
       "<p>1000 rows × 11 columns</p>\n",
       "</div>"
      ],
      "text/plain": [
       "    type_school school_accreditation  gender         interest residence  \\\n",
       "0      Academic                    A    Male  Less Interested     Urban   \n",
       "1      Academic                    A    Male  Less Interested     Urban   \n",
       "2      Academic                    B  Female  Very Interested     Urban   \n",
       "3    Vocational                    B    Male  Very Interested     Rural   \n",
       "4      Academic                    A  Female  Very Interested     Urban   \n",
       "..          ...                  ...     ...              ...       ...   \n",
       "995  Vocational                    A  Female  Very Interested     Rural   \n",
       "996    Academic                    B  Female  Less Interested     Rural   \n",
       "997  Vocational                    A    Male  Less Interested     Urban   \n",
       "998    Academic                    B    Male        Uncertain     Rural   \n",
       "999    Academic                    B    Male       Interested     Urban   \n",
       "\n",
       "     parent_age  parent_salary  house_area  average_grades  \\\n",
       "0            56        6950000        83.0           84.09   \n",
       "1            57        4410000        76.8           86.91   \n",
       "2            50        6500000        80.6           87.43   \n",
       "3            49        6600000        78.2           82.12   \n",
       "4            57        5250000        75.1           86.79   \n",
       "..          ...            ...         ...             ...   \n",
       "995          49        7420000        63.6           85.99   \n",
       "996          51        7480000        84.3           89.72   \n",
       "997          49        5550000        75.2           79.56   \n",
       "998          53        5840000       105.8           87.18   \n",
       "999          50        2940000        69.1           86.13   \n",
       "\n",
       "     parent_was_in_college  will_go_to_college  \n",
       "0                    False                True  \n",
       "1                    False                True  \n",
       "2                    False                True  \n",
       "3                     True                True  \n",
       "4                    False               False  \n",
       "..                     ...                 ...  \n",
       "995                   True                True  \n",
       "996                   True                True  \n",
       "997                  False                True  \n",
       "998                   True                True  \n",
       "999                   True               False  \n",
       "\n",
       "[1000 rows x 11 columns]"
      ]
     },
     "execution_count": 22,
     "metadata": {},
     "output_type": "execute_result"
    }
   ],
   "source": [
    "dataset = pd.read_csv('E:/Tài liệu đại học/Tri tue nhan tao va ung dung/AI Project/dataset/Go_To_College_Dataset.csv')\n",
    "dataset"
   ]
  },
  {
   "cell_type": "markdown",
   "metadata": {},
   "source": [
    "### Kiểm tra dữ liệu có sạch không, có giá trị null không."
   ]
  },
  {
   "cell_type": "code",
   "execution_count": 23,
   "metadata": {},
   "outputs": [
    {
     "name": "stdout",
     "output_type": "stream",
     "text": [
      "<class 'pandas.core.frame.DataFrame'>\n",
      "RangeIndex: 1000 entries, 0 to 999\n",
      "Data columns (total 11 columns):\n",
      " #   Column                 Non-Null Count  Dtype  \n",
      "---  ------                 --------------  -----  \n",
      " 0   type_school            1000 non-null   object \n",
      " 1   school_accreditation   1000 non-null   object \n",
      " 2   gender                 1000 non-null   object \n",
      " 3   interest               1000 non-null   object \n",
      " 4   residence              1000 non-null   object \n",
      " 5   parent_age             1000 non-null   int64  \n",
      " 6   parent_salary          1000 non-null   int64  \n",
      " 7   house_area             1000 non-null   float64\n",
      " 8   average_grades         1000 non-null   float64\n",
      " 9   parent_was_in_college  1000 non-null   bool   \n",
      " 10  will_go_to_college     1000 non-null   bool   \n",
      "dtypes: bool(2), float64(2), int64(2), object(5)\n",
      "memory usage: 72.4+ KB\n"
     ]
    }
   ],
   "source": [
    "dataset.shape\n",
    "dataset.info()"
   ]
  },
  {
   "cell_type": "markdown",
   "metadata": {},
   "source": [
    "### Thống kê các thông tin cơ bản của mỗi đặc trưng."
   ]
  },
  {
   "cell_type": "code",
   "execution_count": 24,
   "metadata": {},
   "outputs": [
    {
     "data": {
      "text/html": [
       "<div>\n",
       "<style scoped>\n",
       "    .dataframe tbody tr th:only-of-type {\n",
       "        vertical-align: middle;\n",
       "    }\n",
       "\n",
       "    .dataframe tbody tr th {\n",
       "        vertical-align: top;\n",
       "    }\n",
       "\n",
       "    .dataframe thead th {\n",
       "        text-align: right;\n",
       "    }\n",
       "</style>\n",
       "<table border=\"1\" class=\"dataframe\">\n",
       "  <thead>\n",
       "    <tr style=\"text-align: right;\">\n",
       "      <th></th>\n",
       "      <th>parent_age</th>\n",
       "      <th>parent_salary</th>\n",
       "      <th>house_area</th>\n",
       "      <th>average_grades</th>\n",
       "    </tr>\n",
       "  </thead>\n",
       "  <tbody>\n",
       "    <tr>\n",
       "      <th>count</th>\n",
       "      <td>1000.000000</td>\n",
       "      <td>1.000000e+03</td>\n",
       "      <td>1000.000000</td>\n",
       "      <td>1000.000000</td>\n",
       "    </tr>\n",
       "    <tr>\n",
       "      <th>mean</th>\n",
       "      <td>52.208000</td>\n",
       "      <td>5.381570e+06</td>\n",
       "      <td>74.515300</td>\n",
       "      <td>86.097200</td>\n",
       "    </tr>\n",
       "    <tr>\n",
       "      <th>std</th>\n",
       "      <td>3.500427</td>\n",
       "      <td>1.397546e+06</td>\n",
       "      <td>15.293346</td>\n",
       "      <td>3.378738</td>\n",
       "    </tr>\n",
       "    <tr>\n",
       "      <th>min</th>\n",
       "      <td>40.000000</td>\n",
       "      <td>1.000000e+06</td>\n",
       "      <td>20.000000</td>\n",
       "      <td>75.000000</td>\n",
       "    </tr>\n",
       "    <tr>\n",
       "      <th>25%</th>\n",
       "      <td>50.000000</td>\n",
       "      <td>4.360000e+06</td>\n",
       "      <td>64.600000</td>\n",
       "      <td>83.737500</td>\n",
       "    </tr>\n",
       "    <tr>\n",
       "      <th>50%</th>\n",
       "      <td>52.000000</td>\n",
       "      <td>5.440000e+06</td>\n",
       "      <td>75.500000</td>\n",
       "      <td>85.575000</td>\n",
       "    </tr>\n",
       "    <tr>\n",
       "      <th>75%</th>\n",
       "      <td>54.000000</td>\n",
       "      <td>6.382500e+06</td>\n",
       "      <td>84.825000</td>\n",
       "      <td>88.262500</td>\n",
       "    </tr>\n",
       "    <tr>\n",
       "      <th>max</th>\n",
       "      <td>65.000000</td>\n",
       "      <td>1.000000e+07</td>\n",
       "      <td>120.000000</td>\n",
       "      <td>98.000000</td>\n",
       "    </tr>\n",
       "  </tbody>\n",
       "</table>\n",
       "</div>"
      ],
      "text/plain": [
       "        parent_age  parent_salary   house_area  average_grades\n",
       "count  1000.000000   1.000000e+03  1000.000000     1000.000000\n",
       "mean     52.208000   5.381570e+06    74.515300       86.097200\n",
       "std       3.500427   1.397546e+06    15.293346        3.378738\n",
       "min      40.000000   1.000000e+06    20.000000       75.000000\n",
       "25%      50.000000   4.360000e+06    64.600000       83.737500\n",
       "50%      52.000000   5.440000e+06    75.500000       85.575000\n",
       "75%      54.000000   6.382500e+06    84.825000       88.262500\n",
       "max      65.000000   1.000000e+07   120.000000       98.000000"
      ]
     },
     "execution_count": 24,
     "metadata": {},
     "output_type": "execute_result"
    }
   ],
   "source": [
    "dataset.describe()"
   ]
  },
  {
   "cell_type": "markdown",
   "metadata": {},
   "source": [
    "### Lấy tên các đặc trưng"
   ]
  },
  {
   "cell_type": "code",
   "execution_count": 25,
   "metadata": {},
   "outputs": [
    {
     "data": {
      "text/plain": [
       "Index(['type_school', 'school_accreditation', 'gender', 'interest',\n",
       "       'residence', 'parent_age', 'parent_salary', 'house_area',\n",
       "       'average_grades', 'parent_was_in_college', 'will_go_to_college'],\n",
       "      dtype='object')"
      ]
     },
     "execution_count": 25,
     "metadata": {},
     "output_type": "execute_result"
    }
   ],
   "source": [
    "dataset.columns"
   ]
  },
  {
   "cell_type": "markdown",
   "metadata": {},
   "source": [
    "### Chuẩn hóa dữ liệu Và Map lại dữ liệu"
   ]
  },
  {
   "cell_type": "code",
   "execution_count": 26,
   "metadata": {},
   "outputs": [
    {
     "data": {
      "text/html": [
       "<div>\n",
       "<style scoped>\n",
       "    .dataframe tbody tr th:only-of-type {\n",
       "        vertical-align: middle;\n",
       "    }\n",
       "\n",
       "    .dataframe tbody tr th {\n",
       "        vertical-align: top;\n",
       "    }\n",
       "\n",
       "    .dataframe thead th {\n",
       "        text-align: right;\n",
       "    }\n",
       "</style>\n",
       "<table border=\"1\" class=\"dataframe\">\n",
       "  <thead>\n",
       "    <tr style=\"text-align: right;\">\n",
       "      <th></th>\n",
       "      <th>type_school</th>\n",
       "      <th>school_accreditation</th>\n",
       "      <th>gender</th>\n",
       "      <th>interest</th>\n",
       "      <th>residence</th>\n",
       "      <th>parent_age</th>\n",
       "      <th>parent_salary</th>\n",
       "      <th>house_area</th>\n",
       "      <th>average_grades</th>\n",
       "      <th>parent_was_in_college</th>\n",
       "      <th>will_go_to_college</th>\n",
       "    </tr>\n",
       "  </thead>\n",
       "  <tbody>\n",
       "    <tr>\n",
       "      <th>0</th>\n",
       "      <td>0</td>\n",
       "      <td>0</td>\n",
       "      <td>0</td>\n",
       "      <td>3</td>\n",
       "      <td>0</td>\n",
       "      <td>56</td>\n",
       "      <td>6950000</td>\n",
       "      <td>83.0</td>\n",
       "      <td>84.09</td>\n",
       "      <td>0</td>\n",
       "      <td>1</td>\n",
       "    </tr>\n",
       "    <tr>\n",
       "      <th>1</th>\n",
       "      <td>0</td>\n",
       "      <td>0</td>\n",
       "      <td>0</td>\n",
       "      <td>3</td>\n",
       "      <td>0</td>\n",
       "      <td>57</td>\n",
       "      <td>4410000</td>\n",
       "      <td>76.8</td>\n",
       "      <td>86.91</td>\n",
       "      <td>0</td>\n",
       "      <td>1</td>\n",
       "    </tr>\n",
       "    <tr>\n",
       "      <th>2</th>\n",
       "      <td>0</td>\n",
       "      <td>1</td>\n",
       "      <td>1</td>\n",
       "      <td>0</td>\n",
       "      <td>0</td>\n",
       "      <td>50</td>\n",
       "      <td>6500000</td>\n",
       "      <td>80.6</td>\n",
       "      <td>87.43</td>\n",
       "      <td>0</td>\n",
       "      <td>1</td>\n",
       "    </tr>\n",
       "    <tr>\n",
       "      <th>3</th>\n",
       "      <td>1</td>\n",
       "      <td>1</td>\n",
       "      <td>0</td>\n",
       "      <td>0</td>\n",
       "      <td>1</td>\n",
       "      <td>49</td>\n",
       "      <td>6600000</td>\n",
       "      <td>78.2</td>\n",
       "      <td>82.12</td>\n",
       "      <td>1</td>\n",
       "      <td>1</td>\n",
       "    </tr>\n",
       "    <tr>\n",
       "      <th>4</th>\n",
       "      <td>0</td>\n",
       "      <td>0</td>\n",
       "      <td>1</td>\n",
       "      <td>0</td>\n",
       "      <td>0</td>\n",
       "      <td>57</td>\n",
       "      <td>5250000</td>\n",
       "      <td>75.1</td>\n",
       "      <td>86.79</td>\n",
       "      <td>0</td>\n",
       "      <td>0</td>\n",
       "    </tr>\n",
       "    <tr>\n",
       "      <th>...</th>\n",
       "      <td>...</td>\n",
       "      <td>...</td>\n",
       "      <td>...</td>\n",
       "      <td>...</td>\n",
       "      <td>...</td>\n",
       "      <td>...</td>\n",
       "      <td>...</td>\n",
       "      <td>...</td>\n",
       "      <td>...</td>\n",
       "      <td>...</td>\n",
       "      <td>...</td>\n",
       "    </tr>\n",
       "    <tr>\n",
       "      <th>995</th>\n",
       "      <td>1</td>\n",
       "      <td>0</td>\n",
       "      <td>1</td>\n",
       "      <td>0</td>\n",
       "      <td>1</td>\n",
       "      <td>49</td>\n",
       "      <td>7420000</td>\n",
       "      <td>63.6</td>\n",
       "      <td>85.99</td>\n",
       "      <td>1</td>\n",
       "      <td>1</td>\n",
       "    </tr>\n",
       "    <tr>\n",
       "      <th>996</th>\n",
       "      <td>0</td>\n",
       "      <td>1</td>\n",
       "      <td>1</td>\n",
       "      <td>3</td>\n",
       "      <td>1</td>\n",
       "      <td>51</td>\n",
       "      <td>7480000</td>\n",
       "      <td>84.3</td>\n",
       "      <td>89.72</td>\n",
       "      <td>1</td>\n",
       "      <td>1</td>\n",
       "    </tr>\n",
       "    <tr>\n",
       "      <th>997</th>\n",
       "      <td>1</td>\n",
       "      <td>0</td>\n",
       "      <td>0</td>\n",
       "      <td>3</td>\n",
       "      <td>0</td>\n",
       "      <td>49</td>\n",
       "      <td>5550000</td>\n",
       "      <td>75.2</td>\n",
       "      <td>79.56</td>\n",
       "      <td>0</td>\n",
       "      <td>1</td>\n",
       "    </tr>\n",
       "    <tr>\n",
       "      <th>998</th>\n",
       "      <td>0</td>\n",
       "      <td>1</td>\n",
       "      <td>0</td>\n",
       "      <td>2</td>\n",
       "      <td>1</td>\n",
       "      <td>53</td>\n",
       "      <td>5840000</td>\n",
       "      <td>105.8</td>\n",
       "      <td>87.18</td>\n",
       "      <td>1</td>\n",
       "      <td>1</td>\n",
       "    </tr>\n",
       "    <tr>\n",
       "      <th>999</th>\n",
       "      <td>0</td>\n",
       "      <td>1</td>\n",
       "      <td>0</td>\n",
       "      <td>1</td>\n",
       "      <td>0</td>\n",
       "      <td>50</td>\n",
       "      <td>2940000</td>\n",
       "      <td>69.1</td>\n",
       "      <td>86.13</td>\n",
       "      <td>1</td>\n",
       "      <td>0</td>\n",
       "    </tr>\n",
       "  </tbody>\n",
       "</table>\n",
       "<p>1000 rows × 11 columns</p>\n",
       "</div>"
      ],
      "text/plain": [
       "     type_school  school_accreditation  gender  interest  residence  \\\n",
       "0              0                     0       0         3          0   \n",
       "1              0                     0       0         3          0   \n",
       "2              0                     1       1         0          0   \n",
       "3              1                     1       0         0          1   \n",
       "4              0                     0       1         0          0   \n",
       "..           ...                   ...     ...       ...        ...   \n",
       "995            1                     0       1         0          1   \n",
       "996            0                     1       1         3          1   \n",
       "997            1                     0       0         3          0   \n",
       "998            0                     1       0         2          1   \n",
       "999            0                     1       0         1          0   \n",
       "\n",
       "     parent_age  parent_salary  house_area  average_grades  \\\n",
       "0            56        6950000        83.0           84.09   \n",
       "1            57        4410000        76.8           86.91   \n",
       "2            50        6500000        80.6           87.43   \n",
       "3            49        6600000        78.2           82.12   \n",
       "4            57        5250000        75.1           86.79   \n",
       "..          ...            ...         ...             ...   \n",
       "995          49        7420000        63.6           85.99   \n",
       "996          51        7480000        84.3           89.72   \n",
       "997          49        5550000        75.2           79.56   \n",
       "998          53        5840000       105.8           87.18   \n",
       "999          50        2940000        69.1           86.13   \n",
       "\n",
       "     parent_was_in_college  will_go_to_college  \n",
       "0                        0                   1  \n",
       "1                        0                   1  \n",
       "2                        0                   1  \n",
       "3                        1                   1  \n",
       "4                        0                   0  \n",
       "..                     ...                 ...  \n",
       "995                      1                   1  \n",
       "996                      1                   1  \n",
       "997                      0                   1  \n",
       "998                      1                   1  \n",
       "999                      1                   0  \n",
       "\n",
       "[1000 rows x 11 columns]"
      ]
     },
     "execution_count": 26,
     "metadata": {},
     "output_type": "execute_result"
    }
   ],
   "source": [
    "dataset['type_school'] = dataset['type_school'].map({'Academic':0, 'Vocational':1})\n",
    "dataset['school_accreditation'] = dataset['school_accreditation'].map({'A': 0,'B': 1})\n",
    "dataset['gender'] = dataset['gender'].map({'Male': 0,'Female': 1})\n",
    "dataset['interest'] = dataset['interest'].map({'Very Interested': 0, 'Interested':1, 'Uncertain': 2, 'Less Interested':3, 'Quiet Interested':4, 'Not Interested':5})\n",
    "dataset['residence'] = dataset['residence'].map({'Urban':0,'Rural': 1})\n",
    "dataset[\"parent_was_in_college\"] = dataset[\"parent_was_in_college\"].astype(int)\n",
    "dataset[\"will_go_to_college\"] = dataset[\"will_go_to_college\"].astype(int)\n",
    "dataset"
   ]
  },
  {
   "cell_type": "markdown",
   "metadata": {},
   "source": [
    "### Kiểm tra lại có bị Map sai hay không"
   ]
  },
  {
   "cell_type": "code",
   "execution_count": 27,
   "metadata": {},
   "outputs": [
    {
     "data": {
      "text/plain": [
       "type_school              0.0\n",
       "school_accreditation     0.0\n",
       "gender                   0.0\n",
       "interest                 0.0\n",
       "residence                0.0\n",
       "parent_age               0.0\n",
       "parent_salary            0.0\n",
       "house_area               0.0\n",
       "average_grades           0.0\n",
       "parent_was_in_college    0.0\n",
       "will_go_to_college       0.0\n",
       "dtype: float64"
      ]
     },
     "execution_count": 27,
     "metadata": {},
     "output_type": "execute_result"
    }
   ],
   "source": [
    "dataset.isnull().sum()/len(dataset)*100"
   ]
  },
  {
   "cell_type": "markdown",
   "metadata": {},
   "source": [
    "# Vẽ ma trận tương quan để lọc bỏ bớt đặc trưng làm giảm độ phức tạp.\n"
   ]
  },
  {
   "cell_type": "code",
   "execution_count": 28,
   "metadata": {},
   "outputs": [
    {
     "name": "stdout",
     "output_type": "stream",
     "text": [
      "[]\n"
     ]
    },
    {
     "data": {
      "image/png": "[encoded data removed]",
      "text/plain": [
       "<Figure size 1080x864 with 2 Axes>"
      ]
     },
     "metadata": {
      "needs_background": "light"
     },
     "output_type": "display_data"
    }
   ],
   "source": [
    "numeric = dataset.drop(['will_go_to_college'], axis=1)\n",
    "correlation = numeric.corr()\n",
    "numeric_columns = numeric.columns\n",
    "high_corr = []\n",
    "\n",
    "for c1 in numeric_columns:\n",
    "    for c2 in numeric_columns:\n",
    "        if c1 != c2 and c2 not in high_corr and correlation[c1][c2] > 0.73:\n",
    "            high_corr.append(c1)\n",
    "print(high_corr)\n",
    "\n",
    "plt.figure(figsize=(15,12))\n",
    "sn.heatmap(correlation, annot=True)\n",
    "plt.show()"
   ]
  },
  {
   "cell_type": "markdown",
   "metadata": {},
   "source": [
    "### TÁCH NHÃN DỮ LIỆU"
   ]
  },
  {
   "cell_type": "code",
   "execution_count": 29,
   "metadata": {},
   "outputs": [
    {
     "name": "stdout",
     "output_type": "stream",
     "text": [
      "     type_school  school_accreditation  gender  interest  residence  \\\n",
      "0              0                     0       0         3          0   \n",
      "1              0                     0       0         3          0   \n",
      "2              0                     1       1         0          0   \n",
      "3              1                     1       0         0          1   \n",
      "4              0                     0       1         0          0   \n",
      "..           ...                   ...     ...       ...        ...   \n",
      "995            1                     0       1         0          1   \n",
      "996            0                     1       1         3          1   \n",
      "997            1                     0       0         3          0   \n",
      "998            0                     1       0         2          1   \n",
      "999            0                     1       0         1          0   \n",
      "\n",
      "     parent_age  parent_salary  house_area  average_grades  \\\n",
      "0            56        6950000        83.0           84.09   \n",
      "1            57        4410000        76.8           86.91   \n",
      "2            50        6500000        80.6           87.43   \n",
      "3            49        6600000        78.2           82.12   \n",
      "4            57        5250000        75.1           86.79   \n",
      "..          ...            ...         ...             ...   \n",
      "995          49        7420000        63.6           85.99   \n",
      "996          51        7480000        84.3           89.72   \n",
      "997          49        5550000        75.2           79.56   \n",
      "998          53        5840000       105.8           87.18   \n",
      "999          50        2940000        69.1           86.13   \n",
      "\n",
      "     parent_was_in_college  \n",
      "0                        0  \n",
      "1                        0  \n",
      "2                        0  \n",
      "3                        1  \n",
      "4                        0  \n",
      "..                     ...  \n",
      "995                      1  \n",
      "996                      1  \n",
      "997                      0  \n",
      "998                      1  \n",
      "999                      1  \n",
      "\n",
      "[1000 rows x 10 columns]\n",
      "0      1\n",
      "1      1\n",
      "2      1\n",
      "3      1\n",
      "4      0\n",
      "      ..\n",
      "995    1\n",
      "996    1\n",
      "997    1\n",
      "998    1\n",
      "999    0\n",
      "Name: will_go_to_college, Length: 1000, dtype: int32\n"
     ]
    }
   ],
   "source": [
    "X = dataset.drop(['will_go_to_college'], axis=1)\n",
    "y = dataset['will_go_to_college']\n",
    "print(X)\n",
    "print(y)"
   ]
  },
  {
   "cell_type": "markdown",
   "metadata": {},
   "source": [
    "### CHIA DỮ LIỆU VỚI TỶ LỆ 4:1"
   ]
  },
  {
   "cell_type": "code",
   "execution_count": 30,
   "metadata": {},
   "outputs": [
    {
     "data": {
      "text/plain": [
       "((800, 10), (800,), (200, 10), (200,))"
      ]
     },
     "execution_count": 30,
     "metadata": {},
     "output_type": "execute_result"
    }
   ],
   "source": [
    "X_train, X_test, y_train, y_test = train_test_split(X, y, test_size=0.2, random_state=42)\n",
    "X_train.shape, y_train.shape, X_test.shape, y_test.shape"
   ]
  },
  {
   "cell_type": "markdown",
   "metadata": {},
   "source": [
    "### VISUALIZE DỮ LIỆU, ĐÁNH GIÁ MỨC ĐỘ PHÂN TÁCH CỦA DỮ LIỆU BẰNG KINH NGHIỆM"
   ]
  },
  {
   "cell_type": "code",
   "execution_count": 31,
   "metadata": {},
   "outputs": [],
   "source": [
    "tsne = TSNE(n_components=2)\n",
    "z = tsne.fit_transform(X_train)\n",
    "dfTSne = pd.DataFrame()\n",
    "dfTSne['y'] =  y_train\n",
    "dfTSne[\"comp-1\"] = z[:,0]\n",
    "dfTSne[\"comp-2\"] = z[:,1]\n"
   ]
  },
  {
   "cell_type": "code",
   "execution_count": 32,
   "metadata": {},
   "outputs": [
    {
     "data": {
      "text/plain": [
       "[Text(0.5, 1.0, 'Going to College')]"
      ]
     },
     "execution_count": 32,
     "metadata": {},
     "output_type": "execute_result"
    },
    {
     "data": {
      "image/png": "[encoded data removed]",
      "text/plain": [
       "<Figure size 1080x576 with 1 Axes>"
      ]
     },
     "metadata": {
      "needs_background": "light"
     },
     "output_type": "display_data"
    }
   ],
   "source": [
    "plt.figure(figsize=(15,8))\n",
    "sn.scatterplot(x=\"comp-1\", y=\"comp-2\", hue=dfTSne.y.tolist(),\n",
    "                palette=sn.color_palette(\"hls\", 2),\n",
    "                data=dfTSne, sizes=(20, 10)).set(title=\"Going to College\")"
   ]
  },
  {
   "cell_type": "markdown",
   "metadata": {},
   "source": [
    "### SỬ DỤNG THUẬT TOÁN GRID SEARCH ĐỂ TÌM HYPER PARAMETER"
   ]
  },
  {
   "cell_type": "code",
   "execution_count": 33,
   "metadata": {},
   "outputs": [],
   "source": [
    "model_params = {\n",
    "    'svm1':{\n",
    "        'model':svm.SVC(),\n",
    "        'params':{\n",
    "            'C': [0.001,0.005,0.01,0.05,0.1,0.5,1,2,3,4,5,6,7,8,9,10],\n",
    "            'gamma': ['scale', 'auto'],\n",
    "            'kernel': ['rbf']\n",
    "        }\n",
    "    },\n",
    "    'svm2':{\n",
    "        'model':svm.SVC(),\n",
    "        'params':{\n",
    "            'C': [0.001,0.005,0.01,0.05,0.1,0.5,1,2,3,4,5,6,7,8,9,10],\n",
    "            'kernel': ['linear']\n",
    "        }\n",
    "    },\n",
    "    'svm3':{\n",
    "        'model':svm.SVC(),\n",
    "        'params':{\n",
    "            'C': [0.001,0.005,0.01,0.05,0.1,0.5,1,2,3,4,5,6,7,8,9,10],\n",
    "            'degree': [1,2,3,4,5,6],\n",
    "            'gamma': ['scale', 'auto'],\n",
    "            'kernel': ['poly']\n",
    "        }\n",
    "    },\n",
    "    'svm4':{\n",
    "        'model':svm.SVC(),\n",
    "        'params':{\n",
    "            'C': [0.001,0.005,0.01,0.05,0.1,0.5,1,2,3,4,5,6,7,8,9,10],\n",
    "            'kernel': ['sigmoid']\n",
    "        }\n",
    "    },\n",
    "    'random_forest':{\n",
    "        'model': RandomForestClassifier(),\n",
    "        'params': {\n",
    "            'n_estimators': [1,2,5,7,10,12, 15, 17,20, 22,25,30,40,50],\n",
    "            'criterion': ['gini','entropy'],\n",
    "            'max_depth': [5,10,15],\n",
    "            'max_features': ['auto', 'sqrt', 'log2']\n",
    "                }\n",
    "        },\n",
    "    'logistic_regression':{\n",
    "        'model': LogisticRegression(solver='liblinear', multi_class='auto'),\n",
    "        'params': {\n",
    "            'C': [1,2,5,10,12,15,17,20,22,25,30,40,50,60,70,80,90,100,150,200]\n",
    "            }\n",
    "        },\n",
    "    'knn':{\n",
    "        'model': KNeighborsClassifier(),\n",
    "        'params':{\n",
    "            'n_neighbors': [5,10,15,20,25,30,35,40],\n",
    "            'algorithm' : ['auto', 'ball_tree', 'kd_tree', 'brute']\n",
    "            }\n",
    "        }\n",
    "}"
   ]
  },
  {
   "cell_type": "code",
   "execution_count": 34,
   "metadata": {},
   "outputs": [],
   "source": [
    "for model_name, mp in model_params.items():\n",
    "    clf = GridSearchCV(mp['model'], mp['params'], cv=5, return_train_score=False)\n",
    "    clf.fit(X_train, y_train)\n",
    "    df = pd.DataFrame(clf.cv_results_)\n",
    "    print(model_name)\n",
    "    filepath = 'E:/Tài liệu đại học/Tri tue nhan tao va ung dung/AI Project/gridSearch/' + str(model_name) +'.xlsx'\n",
    "    writer = pd.ExcelWriter(filepath, engine='xlsxwriter')\n",
    "    df.to_excel(writer, sheet_name=model_name)\n",
    "    writer.save()"
   ]
  },
  {
   "cell_type": "markdown",
   "metadata": {},
   "source": [
    "## CHỌN MÔ HÌNH VÀ THỰC HIỆN DỰ ĐOÁN"
   ]
  },
  {
   "cell_type": "code",
   "execution_count": 35,
   "metadata": {},
   "outputs": [],
   "source": [
    "# {'criterion': 'entropy', 'max_depth': 5, 'max_features': 'sqrt', 'n_estimators': 25}\n",
    "\n",
    "model = RandomForestClassifier(criterion='entropy', max_depth= 10, max_features='log2', n_estimators=17)\n",
    "model.fit(X_train, y_train)\n",
    "y_pred = model.predict(X_test)"
   ]
  },
  {
   "cell_type": "markdown",
   "metadata": {},
   "source": [
    "### ĐÁNH GIÁ MODEL"
   ]
  },
  {
   "cell_type": "code",
   "execution_count": 36,
   "metadata": {},
   "outputs": [
    {
     "data": {
      "image/png": "[encoded data removed]",
      "text/plain": [
       "<Figure size 720x576 with 2 Axes>"
      ]
     },
     "metadata": {
      "needs_background": "light"
     },
     "output_type": "display_data"
    }
   ],
   "source": [
    "confu = confusion_matrix(y_test, y_pred , labels=[0,1])\n",
    "plt.figure(figsize=(10,8))\n",
    "ax = sn.heatmap(confu, annot=True, fmt='', cmap='Blues')\n",
    "\n",
    "ax.set_title('Confusion Matrix\\n\\n');\n",
    "ax.set_xlabel('\\nPredicted Values')\n",
    "ax.set_ylabel('Actual Values ');\n",
    "ax.xaxis.set_ticklabels(['False','True'])\n",
    "ax.yaxis.set_ticklabels(['False','True'])\n",
    "plt.show()"
   ]
  },
  {
   "cell_type": "code",
   "execution_count": 37,
   "metadata": {},
   "outputs": [
    {
     "name": "stdout",
     "output_type": "stream",
     "text": [
      "              precision    recall  f1-score   support\n",
      "\n",
      "           0       0.89      0.90      0.89       106\n",
      "           1       0.88      0.87      0.88        94\n",
      "\n",
      "    accuracy                           0.89       200\n",
      "   macro avg       0.88      0.88      0.88       200\n",
      "weighted avg       0.88      0.89      0.88       200\n",
      "\n"
     ]
    }
   ],
   "source": [
    "print(classification_report(y_test, y_pred))"
   ]
  }
 ],
 "metadata": {
  "kernelspec": {
   "display_name": "Python 3.9.4 64-bit",
   "language": "python",
   "name": "python3"
  },
  "language_info": {
   "codemirror_mode": {
    "name": "ipython",
    "version": 3
   },
   "file_extension": ".py",
   "mimetype": "text/x-python",
   "name": "python",
   "nbconvert_exporter": "python",
   "pygments_lexer": "ipython3",
   "version": "3.9.4"
  },
  "orig_nbformat": 4,
  "vscode": {
   "interpreter": {
    "hash": "30c50835bb55419a173612ee4d65427e1f977c21a521231d2d4ce793f48ad58d"
   }
  }
 },
 "nbformat": 4,
 "nbformat_minor": 2
}
